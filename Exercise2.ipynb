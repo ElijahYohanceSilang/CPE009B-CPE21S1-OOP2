{
  "nbformat": 4,
  "nbformat_minor": 0,
  "metadata": {
    "colab": {
      "provenance": [],
      "authorship_tag": "ABX9TyPILq9kQprabo9EbKStvjAW",
      "include_colab_link": true
    },
    "kernelspec": {
      "name": "python3",
      "display_name": "Python 3"
    },
    "language_info": {
      "name": "python"
    }
  },
  "cells": [
    {
      "cell_type": "markdown",
      "metadata": {
        "id": "view-in-github",
        "colab_type": "text"
      },
      "source": [
        "<a href=\"https://colab.research.google.com/github/ElijahYohanceSilang/CPE009B-CPE21S1-OOP2/blob/main/Exercise2.ipynb\" target=\"_parent\"><img src=\"https://colab.research.google.com/assets/colab-badge.svg\" alt=\"Open In Colab\"/></a>"
      ]
    },
    {
      "cell_type": "code",
      "execution_count": 44,
      "metadata": {
        "colab": {
          "base_uri": "https://localhost:8080/"
        },
        "id": "PeYn0OLxP8IW",
        "outputId": "4e3806a4-6120-40e0-a71e-19b40c993fc7"
      },
      "outputs": [
        {
          "output_type": "stream",
          "name": "stdout",
          "text": [
            "Grade: -1\n",
            "This is not a grade.\n"
          ]
        }
      ],
      "source": [
        "grade = float(input(\"Grade: \"))\n",
        "\n",
        "if grade >= 75 and grade <= 100:\n",
        "  print(\"Passed\")\n",
        "elif grade == 74:\n",
        "  print(\"Remedial\")\n",
        "elif grade < 74 and grade > 0:\n",
        "  print(\"Failed\")\n",
        "else:\n",
        "  print(\"This is not a grade.\")"
      ]
    }
  ]
}