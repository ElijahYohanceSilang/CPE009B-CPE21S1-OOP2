{
  "nbformat": 4,
  "nbformat_minor": 0,
  "metadata": {
    "colab": {
      "provenance": [],
      "authorship_tag": "ABX9TyOWzt+3XEf6HKF5liujp2bw",
      "include_colab_link": true
    },
    "kernelspec": {
      "name": "python3",
      "display_name": "Python 3"
    },
    "language_info": {
      "name": "python"
    }
  },
  "cells": [
    {
      "cell_type": "markdown",
      "metadata": {
        "id": "view-in-github",
        "colab_type": "text"
      },
      "source": [
        "<a href=\"https://colab.research.google.com/github/ElijahYohanceSilang/CPE009B-CPE21S1-OOP2/blob/main/Exercise3.ipynb\" target=\"_parent\"><img src=\"https://colab.research.google.com/assets/colab-badge.svg\" alt=\"Open In Colab\"/></a>"
      ]
    },
    {
      "cell_type": "code",
      "execution_count": 2,
      "metadata": {
        "colab": {
          "base_uri": "https://localhost:8080/"
        },
        "id": "3dDOF5aHaSJW",
        "outputId": "a4e8503b-b4f9-4020-f4f1-c2acfbf1928a"
      },
      "outputs": [
        {
          "output_type": "stream",
          "name": "stdout",
          "text": [
            "Enter the length: 12\n",
            "Enter the width: 8\n",
            "Perimeter: 40.0\n",
            "Area: 96.0\n"
          ]
        }
      ],
      "source": [
        "class Rectangle:\n",
        "  def __init__(self, length, width):\n",
        "    self.length = length\n",
        "    self.width = width\n",
        "  def perimeter(self):\n",
        "    return 2 * (self.length + self.width)\n",
        "  def area(self):\n",
        "    return self.length * self.width\n",
        "\n",
        "length = float(input(\"Enter the length: \"))\n",
        "width = float(input(\"Enter the width: \"))\n",
        "\n",
        "my_rectangle = Rectangle(length, width)\n",
        "\n",
        "perimeter_value = my_rectangle.perimeter()\n",
        "print(f\"Perimeter: {perimeter_value}\")\n",
        "\n",
        "area_value = my_rectangle.area()\n",
        "print(f\"Area: {area_value}\")"
      ]
    }
  ]
}