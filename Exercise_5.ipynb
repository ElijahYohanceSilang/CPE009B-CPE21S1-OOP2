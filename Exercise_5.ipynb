{
  "nbformat": 4,
  "nbformat_minor": 0,
  "metadata": {
    "colab": {
      "provenance": [],
      "authorship_tag": "ABX9TyMHX9WkLKjVp4JzcOiPUSe4",
      "include_colab_link": true
    },
    "kernelspec": {
      "name": "python3",
      "display_name": "Python 3"
    },
    "language_info": {
      "name": "python"
    }
  },
  "cells": [
    {
      "cell_type": "markdown",
      "metadata": {
        "id": "view-in-github",
        "colab_type": "text"
      },
      "source": [
        "<a href=\"https://colab.research.google.com/github/ElijahYohanceSilang/CPE009B-CPE21S1-OOP2/blob/main/Exercise_5.ipynb\" target=\"_parent\"><img src=\"https://colab.research.google.com/assets/colab-badge.svg\" alt=\"Open In Colab\"/></a>"
      ]
    },
    {
      "cell_type": "code",
      "execution_count": 12,
      "metadata": {
        "colab": {
          "base_uri": "https://localhost:8080/"
        },
        "id": "WWhKen--bp2I",
        "outputId": "4cdccea2-495c-49c4-95c0-2e9de3d7f923"
      },
      "outputs": [
        {
          "output_type": "stream",
          "name": "stdout",
          "text": [
            "To cook Italian Spaghetti, you must have Spaghetti, Ground Beef, Onion, Tomato Paste, Salt & Pepper, Tomato Sauce, Tomato, Basil, Sage, Parsley, Cheese.\n",
            "To cook Filipino-style Carbonara, you must have Linguinni, Bacon, Onion & Garlic, Butter, Mushroom, Evaporated Milk, Pork Bullione Cube, All Purpose Cream, Parsley, Parmesan.\n"
          ]
        }
      ],
      "source": [
        "class Pasta:\n",
        "  def __init__(self, name, quan):\n",
        "    self.name = name\n",
        "    self.quan = quan\n",
        "\n",
        "class Spaghetti(Pasta):\n",
        "  def traits(self):\n",
        "    return f\"Spaghetti, Ground Beef, Onion, Tomato Paste, Salt & Pepper, Tomato Sauce, Tomato, Basil, Sage, Parsley, Cheese.\"\n",
        "\n",
        "class Carbonara(Pasta):\n",
        "  def traits(self):\n",
        "    return f\"Linguinni, Bacon, Onion & Garlic, Butter, Mushroom, Evaporated Milk, Pork Bullione Cube, All Purpose Cream, Parsley, Parmesan.\"\n",
        "\n",
        "Spaghetti = Spaghetti(\"Italian Spaghetti,\", 1)\n",
        "Carbonara = Carbonara(\"Filipino-style Carbonara,\", 1)\n",
        "\n",
        "print(\"To cook\", Spaghetti.name,\"you must have\",Spaghetti.traits())\n",
        "print(\"To cook\",Carbonara.name,\"you must have\",Carbonara.traits())"
      ]
    }
  ]
}